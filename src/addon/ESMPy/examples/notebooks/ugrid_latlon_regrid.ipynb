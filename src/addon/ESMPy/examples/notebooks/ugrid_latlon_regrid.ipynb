{
 "cells": [
  {
   "cell_type": "markdown",
   "metadata": {},
   "source": [
    "# ESMPy regridding with unstructured grids in UGRID formatted files"
   ]
  },
  {
   "cell_type": "markdown",
   "metadata": {},
   "source": [
    "This example demonstrates how to regrid between a UGRID Triangular Mesh and a logically rectangular Grid. The UGRID file may be retrieved from an OPeNDAP server on the fly. This example uses a static file for the UGRID due to occasional TDS stability issues. The grid file is retrieved from the ESMF data repository using ESMPy utility functions. An ESMF Field with an exact analytic solution is created on the source Mesh, and regridded to the destination regridding using a bilinear method."
   ]
  },
  {
   "cell_type": "code",
   "execution_count": 1,
   "metadata": {},
   "outputs": [],
   "source": [
    "# conda create -n esmpy-ugrid-example -c ioos esmpy matplotlib krb5 jupyter netCDF4\n",
    "# source activate esmpy-ugrid-example\n",
    "# jupyter notebook"
   ]
  },
  {
   "cell_type": "code",
   "execution_count": 2,
   "metadata": {},
   "outputs": [],
   "source": [
    "import ESMF\n",
    "import numpy"
   ]
  },
  {
   "cell_type": "markdown",
   "metadata": {},
   "source": [
    "Download data files using ESMPy utilities, if they are not downloaded already."
   ]
  },
  {
   "cell_type": "code",
   "execution_count": 3,
   "metadata": {},
   "outputs": [
    {
     "name": "stdout",
     "output_type": "stream",
     "text": [
      "Done.\n"
     ]
    }
   ],
   "source": [
    "import os\n",
    "DD = os.path.join(os.getcwd(), \"ESMPy-data\")\n",
    "if not os.path.isdir(DD):\n",
    "    os.makedirs(DD)\n",
    "from ESMF.util.cache_data import cache_data_file\n",
    "cache_data_file(os.path.join(DD, \"ll1deg_grid.nc\"))\n",
    "# cache_data_file(os.path.join(DD, \"aggregAtlanticESTOFS.nc\"))\n",
    "os.system(\"wget https://www.dropbox.com/s/ke5mdukbjwyqaru/aggregAtlanticESTOFS.nc\")\n",
    "os.system(\"mv aggregAtlanticESTOFS.nc ESMPy-data\")\n",
    "print('Done.')"
   ]
  },
  {
   "cell_type": "markdown",
   "metadata": {},
   "source": [
    "Initialize a global lat/lon grid from a SCRIP formatted file."
   ]
  },
  {
   "cell_type": "code",
   "execution_count": 4,
   "metadata": {},
   "outputs": [],
   "source": [
    "gridfile = \"ESMPy-data/ll1deg_grid.nc\"\n",
    "grid = ESMF.Grid(filename=gridfile, filetype=ESMF.FileFormat.SCRIP, is_sphere=True)"
   ]
  },
  {
   "cell_type": "markdown",
   "metadata": {},
   "source": [
    "Create an unstructured mesh from OPeNDAP UGRID formatted regional grid file."
   ]
  },
  {
   "cell_type": "code",
   "execution_count": 5,
   "metadata": {},
   "outputs": [],
   "source": [
    "meshfile = \"ESMPy-data/aggregAtlanticESTOFS.nc\"\n",
    "mesh = ESMF.Mesh(filename=meshfile, filetype=ESMF.FileFormat.UGRID, meshname='adcirc_mesh')"
   ]
  },
  {
   "cell_type": "markdown",
   "metadata": {},
   "source": [
    "Create Fields on the NODE locations of the source Mesh, and CENTER locations of the destination Grid.  The source and exact Fields are initialized to a known analytic solution, to allow us to check the error after the regridding operation."
   ]
  },
  {
   "cell_type": "code",
   "execution_count": 6,
   "metadata": {},
   "outputs": [],
   "source": [
    "srcfield = ESMF.Field(mesh, name='srcfield', meshloc=ESMF.MeshLoc.NODE)\n",
    "\n",
    "dstfield = ESMF.Field(grid, name='dstfield', staggerloc=ESMF.StaggerLoc.CENTER)\n",
    "xctfield = ESMF.Field(grid, name='xctfield', staggerloc=ESMF.StaggerLoc.CENTER)\n",
    "\n",
    "[lon, lat] = [0, 1]\n",
    "\n",
    "srcgridXCoord = srcfield.grid.get_coords(lon, meshloc=ESMF.MeshLoc.NODE)\n",
    "srcgridYCoord = srcfield.grid.get_coords(lat, meshloc=ESMF.MeshLoc.NODE)\n",
    "srcfield.data[...] = 2.0 + numpy.cos(numpy.radians(srcgridYCoord)[...])**2 * \\\n",
    "                           numpy.cos(2.0*numpy.radians(srcgridXCoord)[...])\n",
    "\n",
    "dstgridXCoord = xctfield.grid.get_coords(lon, ESMF.StaggerLoc.CENTER)\n",
    "dstgridYCoord = xctfield.grid.get_coords(lat, ESMF.StaggerLoc.CENTER)\n",
    "xctfield.data[...] = 2.0 + numpy.cos(numpy.radians(dstgridYCoord)[...])**2 * \\\n",
    "                           numpy.cos(2.0*numpy.radians(dstgridXCoord)[...])\n",
    "\n",
    "uninitval = 1e20\n",
    "dstfield.data[...] = uninitval"
   ]
  },
  {
   "cell_type": "markdown",
   "metadata": {},
   "source": [
    "Create a Regrid object and use it to interpolate from the source to the destination Field. The options to ignore unmapped points leaving uninitialized point values alone has been activated."
   ]
  },
  {
   "cell_type": "code",
   "execution_count": 7,
   "metadata": {},
   "outputs": [],
   "source": [
    "regrid = ESMF.Regrid(srcfield, dstfield,\n",
    "                     regrid_method=ESMF.RegridMethod.BILINEAR,\n",
    "                     unmapped_action=ESMF.UnmappedAction.IGNORE)\n",
    "\n",
    "dstfield = regrid(srcfield, dstfield, zero_region=ESMF.Region.SELECT)"
   ]
  },
  {
   "cell_type": "markdown",
   "metadata": {},
   "source": [
    "Display regridding results and relative error."
   ]
  },
  {
   "cell_type": "code",
   "execution_count": 8,
   "metadata": {},
   "outputs": [
    {
     "data": {
      "image/png": "[encoded data removed]",
      "text/plain": [
       "<Figure size 1080x432 with 3 Axes>"
      ]
     },
     "metadata": {
      "needs_background": "light"
     },
     "output_type": "display_data"
    }
   ],
   "source": [
    "import matplotlib.pyplot as plt\n",
    "%matplotlib inline\n",
    "\n",
    "colormap = \"gist_stern\"\n",
    "lons = dstfield.grid.get_coords(0)\n",
    "lats = dstfield.grid.get_coords(1)\n",
    "\n",
    "fig = plt.figure(1, (15, 6))\n",
    "fig.suptitle('ESMPy Regridding', fontsize=14, fontweight='bold')\n",
    "\n",
    "ax = fig.add_subplot(1, 2, 1)\n",
    "solution = numpy.copy(dstfield.data)\n",
    "solution[numpy.where(dstfield.data == uninitval)] = 0\n",
    "im = ax.imshow(solution, vmin=numpy.min(solution),\n",
    "               vmax=numpy.max(solution), cmap=colormap, aspect='auto',\n",
    "               extent=[numpy.min(lons), numpy.max(lons),\n",
    "                       numpy.min(lats), numpy.max(lats)])\n",
    "ax.set_xlabel(\"Longitude\")\n",
    "ax.set_ylabel(\"Latitude\")\n",
    "ax.set_title(\"Regrid Solution\")\n",
    "\n",
    "relerr = numpy.abs(dstfield.data - xctfield.data)/numpy.abs(xctfield.data)\n",
    "relerr[numpy.where(dstfield.data == uninitval)] = 0\n",
    "ax = fig.add_subplot(1, 2, 2)\n",
    "im1 = ax.imshow(relerr, vmin=numpy.min(relerr),\n",
    "                vmax=numpy.max(relerr), cmap=colormap, aspect='auto',\n",
    "                extent=[numpy.min(lons), numpy.max(lons),\n",
    "                        numpy.min(lats), numpy.max(lats)])\n",
    "ax.set_xlabel(\"Longitude\")\n",
    "ax.set_ylabel(\"Latitude\")\n",
    "ax.set_title(\"Relative Error\")\n",
    "\n",
    "fig.subplots_adjust(right=0.8)\n",
    "cbar_ax = fig.add_axes([0.9, 0.1, 0.01, 0.8])\n",
    "fig.colorbar(im1, cax=cbar_ax)\n",
    "\n",
    "plt.show()"
   ]
  },
  {
   "cell_type": "markdown",
   "metadata": {},
   "source": [
    "The subplot on the right shows that the ESMF bilinear interpolation method yields a solution with accuracy on the order of 1E-6 using an analytic field of a second order spherical harmonic-like function.  \n",
    "\n",
    "Using netCDF4 we can now look at a regridded solution using source data from the UGRID file."
   ]
  },
  {
   "cell_type": "code",
   "execution_count": 9,
   "metadata": {},
   "outputs": [],
   "source": [
    "import netCDF4 as nc\n",
    "f = nc.Dataset(\"ESMPy-data/aggregAtlanticESTOFS.nc\")\n",
    "zeta = f.variables[\"zeta\"]\n",
    "srcfield.data[...] = zeta[0]\n",
    "f.close()"
   ]
  },
  {
   "cell_type": "markdown",
   "metadata": {},
   "source": [
    "The destination field needs to be reinitialized and the regridding needs to be rerun.  Notice how it is not necessary to rebuild the Regrid object if it is being using on a Field pair built on the same underlying Grid/Mesh objects.  This saves the computation time of creating the large sparse interpolation matrix.  It is only necessary to call the Regrid object on the Field pair to reapply the regridding operation using the new data values."
   ]
  },
  {
   "cell_type": "code",
   "execution_count": 10,
   "metadata": {},
   "outputs": [],
   "source": [
    "dstfield.data[...] = uninitval\n",
    "\n",
    "dstfield = regrid(srcfield, dstfield, zero_region=ESMF.Region.SELECT)"
   ]
  },
  {
   "cell_type": "code",
   "execution_count": 11,
   "metadata": {},
   "outputs": [
    {
     "data": {
      "image/png": "[encoded data removed]",
      "text/plain": [
       "<Figure size 1080x432 with 2 Axes>"
      ]
     },
     "metadata": {
      "needs_background": "light"
     },
     "output_type": "display_data"
    }
   ],
   "source": [
    "import matplotlib.pyplot as plt\n",
    "%matplotlib inline\n",
    "\n",
    "colormap = \"gist_stern\"\n",
    "lons = dstfield.grid.get_coords(0)\n",
    "lats = dstfield.grid.get_coords(1)\n",
    "\n",
    "fig = plt.figure(1, (15, 6))\n",
    "fig.suptitle('ESMPy Regridding', fontsize=14, fontweight='bold')\n",
    "\n",
    "solution = numpy.copy(dstfield.data)\n",
    "solution[numpy.where(dstfield.data == uninitval)] = 0\n",
    "im = plt.imshow(solution, vmin=numpy.min(solution),\n",
    "               vmax=numpy.max(solution), cmap=colormap, aspect='auto',\n",
    "               extent=[numpy.min(lons), numpy.max(lons),\n",
    "                       numpy.min(lats), numpy.max(lats)])\n",
    "\n",
    "ax = plt.gca()\n",
    "ax.set_xlabel(\"Longitude\")\n",
    "ax.set_ylabel(\"Latitude\")\n",
    "ax.set_title(\"Regrid Solution\")\n",
    "\n",
    "fig.subplots_adjust(right=0.8)\n",
    "cbar_ax = fig.add_axes([0.9, 0.1, 0.01, 0.8])\n",
    "fig.colorbar(im, cax=cbar_ax)\n",
    "\n",
    "plt.show()"
   ]
  },
  {
   "cell_type": "code",
   "execution_count": null,
   "metadata": {},
   "outputs": [],
   "source": []
  }
 ],
 "metadata": {
  "kernelspec": {
   "display_name": "Python 3",
   "language": "python",
   "name": "python3"
  },
  "language_info": {
   "codemirror_mode": {
    "name": "ipython",
    "version": 3
   },
   "file_extension": ".py",
   "mimetype": "text/x-python",
   "name": "python",
   "nbconvert_exporter": "python",
   "pygments_lexer": "ipython3",
   "version": "3.8.10"
  }
 },
 "nbformat": 4,
 "nbformat_minor": 1
}
